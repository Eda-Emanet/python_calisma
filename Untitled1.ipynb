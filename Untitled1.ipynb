{
 "cells": [
  {
   "cell_type": "code",
   "execution_count": 2,
   "metadata": {},
   "outputs": [],
   "source": [
    "import pandas as pd\n",
    "import seaborn as sns"
   ]
  },
  {
   "cell_type": "code",
   "execution_count": 4,
   "metadata": {},
   "outputs": [],
   "source": [
    "df = pd.read_csv(\"final_data.csv\")"
   ]
  },
  {
   "cell_type": "code",
   "execution_count": 5,
   "metadata": {},
   "outputs": [
    {
     "name": "stdout",
     "output_type": "stream",
     "text": [
      "<class 'pandas.core.frame.DataFrame'>\n",
      "RangeIndex: 154 entries, 0 to 153\n",
      "Data columns (total 7 columns):\n",
      " #   Column         Non-Null Count  Dtype  \n",
      "---  ------         --------------  -----  \n",
      " 0   Unnamed: 0     154 non-null    int64  \n",
      " 1   Id             154 non-null    int64  \n",
      " 2   SepalLengthCm  154 non-null    float64\n",
      " 3   SepalWidthCm   154 non-null    float64\n",
      " 4   PetalLengthCm  154 non-null    float64\n",
      " 5   PetalWidthCm   154 non-null    float64\n",
      " 6   Species        154 non-null    object \n",
      "dtypes: float64(4), int64(2), object(1)\n",
      "memory usage: 8.5+ KB\n"
     ]
    }
   ],
   "source": [
    "df.info()"
   ]
  },
  {
   "cell_type": "markdown",
   "metadata": {},
   "source": [
    "# Gereksiz kolonların düşürülmesi:\n"
   ]
  },
  {
   "cell_type": "code",
   "execution_count": 6,
   "metadata": {},
   "outputs": [
    {
     "data": {
      "text/plain": [
       "Index(['Unnamed: 0', 'Id', 'SepalLengthCm', 'SepalWidthCm', 'PetalLengthCm',\n",
       "       'PetalWidthCm', 'Species'],\n",
       "      dtype='object')"
      ]
     },
     "execution_count": 6,
     "metadata": {},
     "output_type": "execute_result"
    }
   ],
   "source": [
    "df.columns"
   ]
  },
  {
   "cell_type": "code",
   "execution_count": 9,
   "metadata": {},
   "outputs": [],
   "source": [
    "df = df.drop(labels = (df.columns[0]), axis = 1)  # burada shift tab ile fonk çalışması için gereken argümanları görebiirsin."
   ]
  },
  {
   "cell_type": "markdown",
   "metadata": {},
   "source": [
    "burada genel istatistik bilgilerini görmektense grup bazında sıralayıp görmek daha mantıklı."
   ]
  },
  {
   "cell_type": "code",
   "execution_count": 12,
   "metadata": {},
   "outputs": [
    {
     "data": {
      "text/html": [
       "<div>\n",
       "<style scoped>\n",
       "    .dataframe tbody tr th:only-of-type {\n",
       "        vertical-align: middle;\n",
       "    }\n",
       "\n",
       "    .dataframe tbody tr th {\n",
       "        vertical-align: top;\n",
       "    }\n",
       "\n",
       "    .dataframe thead tr th {\n",
       "        text-align: left;\n",
       "    }\n",
       "\n",
       "    .dataframe thead tr:last-of-type th {\n",
       "        text-align: right;\n",
       "    }\n",
       "</style>\n",
       "<table border=\"1\" class=\"dataframe\">\n",
       "  <thead>\n",
       "    <tr>\n",
       "      <th></th>\n",
       "      <th colspan=\"4\" halign=\"left\">Id</th>\n",
       "      <th colspan=\"4\" halign=\"left\">SepalLengthCm</th>\n",
       "      <th colspan=\"4\" halign=\"left\">SepalWidthCm</th>\n",
       "      <th colspan=\"4\" halign=\"left\">PetalLengthCm</th>\n",
       "      <th colspan=\"4\" halign=\"left\">PetalWidthCm</th>\n",
       "    </tr>\n",
       "    <tr>\n",
       "      <th></th>\n",
       "      <th>min</th>\n",
       "      <th>std</th>\n",
       "      <th>mean</th>\n",
       "      <th>max</th>\n",
       "      <th>min</th>\n",
       "      <th>std</th>\n",
       "      <th>mean</th>\n",
       "      <th>max</th>\n",
       "      <th>min</th>\n",
       "      <th>std</th>\n",
       "      <th>mean</th>\n",
       "      <th>max</th>\n",
       "      <th>min</th>\n",
       "      <th>std</th>\n",
       "      <th>mean</th>\n",
       "      <th>max</th>\n",
       "      <th>min</th>\n",
       "      <th>std</th>\n",
       "      <th>mean</th>\n",
       "      <th>max</th>\n",
       "    </tr>\n",
       "    <tr>\n",
       "      <th>Species</th>\n",
       "      <th></th>\n",
       "      <th></th>\n",
       "      <th></th>\n",
       "      <th></th>\n",
       "      <th></th>\n",
       "      <th></th>\n",
       "      <th></th>\n",
       "      <th></th>\n",
       "      <th></th>\n",
       "      <th></th>\n",
       "      <th></th>\n",
       "      <th></th>\n",
       "      <th></th>\n",
       "      <th></th>\n",
       "      <th></th>\n",
       "      <th></th>\n",
       "      <th></th>\n",
       "      <th></th>\n",
       "      <th></th>\n",
       "      <th></th>\n",
       "    </tr>\n",
       "  </thead>\n",
       "  <tbody>\n",
       "    <tr>\n",
       "      <th>Iris-setosa</th>\n",
       "      <td>0</td>\n",
       "      <td>16.494049</td>\n",
       "      <td>26.106383</td>\n",
       "      <td>58</td>\n",
       "      <td>4.3</td>\n",
       "      <td>0.336838</td>\n",
       "      <td>4.995745</td>\n",
       "      <td>5.8</td>\n",
       "      <td>2.9</td>\n",
       "      <td>0.320562</td>\n",
       "      <td>3.401549</td>\n",
       "      <td>4.2</td>\n",
       "      <td>1.1</td>\n",
       "      <td>0.159178</td>\n",
       "      <td>1.465957</td>\n",
       "      <td>1.9</td>\n",
       "      <td>0.100000</td>\n",
       "      <td>0.082008</td>\n",
       "      <td>0.225532</td>\n",
       "      <td>0.4</td>\n",
       "    </tr>\n",
       "    <tr>\n",
       "      <th>Iris-versicolor</th>\n",
       "      <td>60</td>\n",
       "      <td>15.875125</td>\n",
       "      <td>86.433962</td>\n",
       "      <td>113</td>\n",
       "      <td>4.9</td>\n",
       "      <td>0.515388</td>\n",
       "      <td>5.934459</td>\n",
       "      <td>7.0</td>\n",
       "      <td>2.0</td>\n",
       "      <td>0.314952</td>\n",
       "      <td>2.775472</td>\n",
       "      <td>3.4</td>\n",
       "      <td>3.0</td>\n",
       "      <td>0.499573</td>\n",
       "      <td>4.222914</td>\n",
       "      <td>5.1</td>\n",
       "      <td>1.000000</td>\n",
       "      <td>0.199782</td>\n",
       "      <td>1.332075</td>\n",
       "      <td>1.8</td>\n",
       "    </tr>\n",
       "    <tr>\n",
       "      <th>Iris-virginica</th>\n",
       "      <td>114</td>\n",
       "      <td>16.261157</td>\n",
       "      <td>141.907407</td>\n",
       "      <td>169</td>\n",
       "      <td>5.6</td>\n",
       "      <td>0.599840</td>\n",
       "      <td>6.598148</td>\n",
       "      <td>7.9</td>\n",
       "      <td>2.2</td>\n",
       "      <td>0.332893</td>\n",
       "      <td>2.988889</td>\n",
       "      <td>3.8</td>\n",
       "      <td>4.8</td>\n",
       "      <td>0.548809</td>\n",
       "      <td>5.564815</td>\n",
       "      <td>6.9</td>\n",
       "      <td>1.180357</td>\n",
       "      <td>0.299473</td>\n",
       "      <td>2.012599</td>\n",
       "      <td>2.5</td>\n",
       "    </tr>\n",
       "  </tbody>\n",
       "</table>\n",
       "</div>"
      ],
      "text/plain": [
       "                  Id                             SepalLengthCm            \\\n",
       "                 min        std        mean  max           min       std   \n",
       "Species                                                                    \n",
       "Iris-setosa        0  16.494049   26.106383   58           4.3  0.336838   \n",
       "Iris-versicolor   60  15.875125   86.433962  113           4.9  0.515388   \n",
       "Iris-virginica   114  16.261157  141.907407  169           5.6  0.599840   \n",
       "\n",
       "                               SepalWidthCm                           \\\n",
       "                     mean  max          min       std      mean  max   \n",
       "Species                                                                \n",
       "Iris-setosa      4.995745  5.8          2.9  0.320562  3.401549  4.2   \n",
       "Iris-versicolor  5.934459  7.0          2.0  0.314952  2.775472  3.4   \n",
       "Iris-virginica   6.598148  7.9          2.2  0.332893  2.988889  3.8   \n",
       "\n",
       "                PetalLengthCm                          PetalWidthCm            \\\n",
       "                          min       std      mean  max          min       std   \n",
       "Species                                                                         \n",
       "Iris-setosa               1.1  0.159178  1.465957  1.9     0.100000  0.082008   \n",
       "Iris-versicolor           3.0  0.499573  4.222914  5.1     1.000000  0.199782   \n",
       "Iris-virginica            4.8  0.548809  5.564815  6.9     1.180357  0.299473   \n",
       "\n",
       "                                \n",
       "                     mean  max  \n",
       "Species                         \n",
       "Iris-setosa      0.225532  0.4  \n",
       "Iris-versicolor  1.332075  1.8  \n",
       "Iris-virginica   2.012599  2.5  "
      ]
     },
     "execution_count": 12,
     "metadata": {},
     "output_type": "execute_result"
    }
   ],
   "source": [
    "df.groupby(\"Species\").agg([\"min\", \"std\", \"mean\",\"max\"])"
   ]
  },
  {
   "cell_type": "code",
   "execution_count": 14,
   "metadata": {
    "collapsed": true,
    "jupyter": {
     "outputs_hidden": true
    }
   },
   "outputs": [
    {
     "data": {
      "text/plain": [
       "Id               0\n",
       "SepalLengthCm    0\n",
       "SepalWidthCm     0\n",
       "PetalLengthCm    0\n",
       "PetalWidthCm     0\n",
       "Species          0\n",
       "dtype: int64"
      ]
     },
     "execution_count": 14,
     "metadata": {},
     "output_type": "execute_result"
    }
   ],
   "source": [
    "df.isna().sum() #burada boş değerleri toplamını görmek istiyoruz."
   ]
  },
  {
   "cell_type": "code",
   "execution_count": 20,
   "metadata": {},
   "outputs": [
    {
     "ename": "NameError",
     "evalue": "name 'column' is not defined",
     "output_type": "error",
     "traceback": [
      "\u001b[1;31m---------------------------------------------------------------------------\u001b[0m",
      "\u001b[1;31mNameError\u001b[0m                                 Traceback (most recent call last)",
      "\u001b[1;32m<ipython-input-20-357fb31281dc>\u001b[0m in \u001b[0;36m<module>\u001b[1;34m\u001b[0m\n\u001b[0;32m      1\u001b[0m \u001b[1;32mfor\u001b[0m \u001b[0mi\u001b[0m \u001b[1;32min\u001b[0m \u001b[0mdf\u001b[0m\u001b[1;33m.\u001b[0m\u001b[0mcolumns\u001b[0m\u001b[1;33m[\u001b[0m\u001b[1;36m1\u001b[0m\u001b[1;33m:\u001b[0m\u001b[1;33m-\u001b[0m\u001b[1;36m1\u001b[0m\u001b[1;33m]\u001b[0m\u001b[1;33m:\u001b[0m\u001b[1;33m\u001b[0m\u001b[1;33m\u001b[0m\u001b[0m\n\u001b[1;32m----> 2\u001b[1;33m     \u001b[0mdf\u001b[0m\u001b[1;33m[\u001b[0m\u001b[0mcolumn\u001b[0m\u001b[1;33m]\u001b[0m\u001b[1;33m.\u001b[0m\u001b[0mfillna\u001b[0m\u001b[1;33m(\u001b[0m\u001b[0mvalue\u001b[0m \u001b[1;33m=\u001b[0m\u001b[0mdf\u001b[0m\u001b[1;33m[\u001b[0m\u001b[0mcolumn\u001b[0m\u001b[1;33m]\u001b[0m\u001b[1;33m.\u001b[0m \u001b[0mmean\u001b[0m\u001b[1;33m(\u001b[0m\u001b[1;33m)\u001b[0m\u001b[1;33m,\u001b[0m \u001b[0minplace\u001b[0m \u001b[1;33m=\u001b[0m \u001b[1;32mTrue\u001b[0m \u001b[1;33m)\u001b[0m\u001b[1;33m\u001b[0m\u001b[1;33m\u001b[0m\u001b[0m\n\u001b[0m\u001b[0;32m      3\u001b[0m \u001b[1;33m\u001b[0m\u001b[0m\n",
      "\u001b[1;31mNameError\u001b[0m: name 'column' is not defined"
     ]
    }
   ],
   "source": [
    "for i in df.columns[1:-1]:\n",
    "    df[column].fillna(value =df[column]. mean(), inplace = True )\n",
    "    "
   ]
  }
 ],
 "metadata": {
  "kernelspec": {
   "display_name": "Python 3",
   "language": "python",
   "name": "python3"
  },
  "language_info": {
   "codemirror_mode": {
    "name": "ipython",
    "version": 3
   },
   "file_extension": ".py",
   "mimetype": "text/x-python",
   "name": "python",
   "nbconvert_exporter": "python",
   "pygments_lexer": "ipython3",
   "version": "3.7.10"
  }
 },
 "nbformat": 4,
 "nbformat_minor": 4
}
